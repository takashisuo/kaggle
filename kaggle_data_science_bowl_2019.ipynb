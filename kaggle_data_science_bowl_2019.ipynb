{
  "nbformat": 4,
  "nbformat_minor": 0,
  "metadata": {
    "colab": {
      "name": "kaggle_data-science-bowl-2019.ipynb",
      "provenance": [],
      "include_colab_link": true
    },
    "kernelspec": {
      "name": "python3",
      "display_name": "Python 3"
    }
  },
  "cells": [
    {
      "cell_type": "markdown",
      "metadata": {
        "id": "view-in-github",
        "colab_type": "text"
      },
      "source": [
        "<a href=\"https://colab.research.google.com/github/takashisuo/kaggle/blob/master/kaggle_data_science_bowl_2019.ipynb\" target=\"_parent\"><img src=\"https://colab.research.google.com/assets/colab-badge.svg\" alt=\"Open In Colab\"/></a>"
      ]
    },
    {
      "cell_type": "code",
      "metadata": {
        "id": "xlLvrGqNHb2W",
        "colab_type": "code",
        "colab": {}
      },
      "source": [
        "import pandas as pd\n",
        "import numpy as np\n",
        "import os"
      ],
      "execution_count": 0,
      "outputs": []
    },
    {
      "cell_type": "code",
      "metadata": {
        "id": "V2jOleoKISsF",
        "colab_type": "code",
        "outputId": "4643350c-789f-4f40-d5a9-fd56ff1adb6d",
        "colab": {
          "base_uri": "https://localhost:8080/",
          "height": 122
        }
      },
      "source": [
        "from google.colab import drive\n",
        "drive.mount(mountpoint=\"/content/drive\")"
      ],
      "execution_count": 2,
      "outputs": [
        {
          "output_type": "stream",
          "text": [
            "Go to this URL in a browser: https://accounts.google.com/o/oauth2/auth?client_id=947318989803-6bn6qk8qdgf4n4g3pfee6491hc0brc4i.apps.googleusercontent.com&redirect_uri=urn%3aietf%3awg%3aoauth%3a2.0%3aoob&response_type=code&scope=email%20https%3a%2f%2fwww.googleapis.com%2fauth%2fdocs.test%20https%3a%2f%2fwww.googleapis.com%2fauth%2fdrive%20https%3a%2f%2fwww.googleapis.com%2fauth%2fdrive.photos.readonly%20https%3a%2f%2fwww.googleapis.com%2fauth%2fpeopleapi.readonly\n",
            "\n",
            "Enter your authorization code:\n",
            "··········\n",
            "Mounted at /content/drive\n"
          ],
          "name": "stdout"
        }
      ]
    },
    {
      "cell_type": "code",
      "metadata": {
        "id": "kaociw-wIgBG",
        "colab_type": "code",
        "outputId": "53a9dd1c-1f3e-4310-e3d1-ad724936535d",
        "colab": {
          "base_uri": "https://localhost:8080/",
          "height": 102
        }
      },
      "source": [
        "os.listdir()\n",
        "os.chdir(\"drive/My Drive/Colab Notebooks/kaggle/data-science-bowl-2019\")\n",
        "os.listdir()"
      ],
      "execution_count": 6,
      "outputs": [
        {
          "output_type": "execute_result",
          "data": {
            "text/plain": [
              "['specs.csv',\n",
              " 'sample_submission.csv',\n",
              " 'test.csv',\n",
              " 'train_labels.csv',\n",
              " 'train.csv']"
            ]
          },
          "metadata": {
            "tags": []
          },
          "execution_count": 6
        }
      ]
    },
    {
      "cell_type": "code",
      "metadata": {
        "id": "I-MkAUGiJSK2",
        "colab_type": "code",
        "outputId": "11cbf76f-bce2-4a5b-d8e8-e860a90c2706",
        "colab": {
          "base_uri": "https://localhost:8080/",
          "height": 200
        }
      },
      "source": [
        "train_labels = pd.read_csv(\"train_labels.csv\")\n",
        "train_labels.head()"
      ],
      "execution_count": 7,
      "outputs": [
        {
          "output_type": "execute_result",
          "data": {
            "text/html": [
              "<div>\n",
              "<style scoped>\n",
              "    .dataframe tbody tr th:only-of-type {\n",
              "        vertical-align: middle;\n",
              "    }\n",
              "\n",
              "    .dataframe tbody tr th {\n",
              "        vertical-align: top;\n",
              "    }\n",
              "\n",
              "    .dataframe thead th {\n",
              "        text-align: right;\n",
              "    }\n",
              "</style>\n",
              "<table border=\"1\" class=\"dataframe\">\n",
              "  <thead>\n",
              "    <tr style=\"text-align: right;\">\n",
              "      <th></th>\n",
              "      <th>game_session</th>\n",
              "      <th>installation_id</th>\n",
              "      <th>title</th>\n",
              "      <th>num_correct</th>\n",
              "      <th>num_incorrect</th>\n",
              "      <th>accuracy</th>\n",
              "      <th>accuracy_group</th>\n",
              "    </tr>\n",
              "  </thead>\n",
              "  <tbody>\n",
              "    <tr>\n",
              "      <th>0</th>\n",
              "      <td>6bdf9623adc94d89</td>\n",
              "      <td>0006a69f</td>\n",
              "      <td>Mushroom Sorter (Assessment)</td>\n",
              "      <td>1</td>\n",
              "      <td>0</td>\n",
              "      <td>1.0</td>\n",
              "      <td>3</td>\n",
              "    </tr>\n",
              "    <tr>\n",
              "      <th>1</th>\n",
              "      <td>77b8ee947eb84b4e</td>\n",
              "      <td>0006a69f</td>\n",
              "      <td>Bird Measurer (Assessment)</td>\n",
              "      <td>0</td>\n",
              "      <td>11</td>\n",
              "      <td>0.0</td>\n",
              "      <td>0</td>\n",
              "    </tr>\n",
              "    <tr>\n",
              "      <th>2</th>\n",
              "      <td>901acc108f55a5a1</td>\n",
              "      <td>0006a69f</td>\n",
              "      <td>Mushroom Sorter (Assessment)</td>\n",
              "      <td>1</td>\n",
              "      <td>0</td>\n",
              "      <td>1.0</td>\n",
              "      <td>3</td>\n",
              "    </tr>\n",
              "    <tr>\n",
              "      <th>3</th>\n",
              "      <td>9501794defd84e4d</td>\n",
              "      <td>0006a69f</td>\n",
              "      <td>Mushroom Sorter (Assessment)</td>\n",
              "      <td>1</td>\n",
              "      <td>1</td>\n",
              "      <td>0.5</td>\n",
              "      <td>2</td>\n",
              "    </tr>\n",
              "    <tr>\n",
              "      <th>4</th>\n",
              "      <td>a9ef3ecb3d1acc6a</td>\n",
              "      <td>0006a69f</td>\n",
              "      <td>Bird Measurer (Assessment)</td>\n",
              "      <td>1</td>\n",
              "      <td>0</td>\n",
              "      <td>1.0</td>\n",
              "      <td>3</td>\n",
              "    </tr>\n",
              "  </tbody>\n",
              "</table>\n",
              "</div>"
            ],
            "text/plain": [
              "       game_session installation_id  ... accuracy  accuracy_group\n",
              "0  6bdf9623adc94d89        0006a69f  ...      1.0               3\n",
              "1  77b8ee947eb84b4e        0006a69f  ...      0.0               0\n",
              "2  901acc108f55a5a1        0006a69f  ...      1.0               3\n",
              "3  9501794defd84e4d        0006a69f  ...      0.5               2\n",
              "4  a9ef3ecb3d1acc6a        0006a69f  ...      1.0               3\n",
              "\n",
              "[5 rows x 7 columns]"
            ]
          },
          "metadata": {
            "tags": []
          },
          "execution_count": 7
        }
      ]
    },
    {
      "cell_type": "code",
      "metadata": {
        "id": "cbZjH1yGJqSO",
        "colab_type": "code",
        "outputId": "d25654d1-49fd-4c4a-b49b-e845682a8906",
        "colab": {
          "base_uri": "https://localhost:8080/",
          "height": 390
        }
      },
      "source": [
        "train = pd.read_csv(\"train.csv\")\n",
        "train.head()"
      ],
      "execution_count": 8,
      "outputs": [
        {
          "output_type": "execute_result",
          "data": {
            "text/html": [
              "<div>\n",
              "<style scoped>\n",
              "    .dataframe tbody tr th:only-of-type {\n",
              "        vertical-align: middle;\n",
              "    }\n",
              "\n",
              "    .dataframe tbody tr th {\n",
              "        vertical-align: top;\n",
              "    }\n",
              "\n",
              "    .dataframe thead th {\n",
              "        text-align: right;\n",
              "    }\n",
              "</style>\n",
              "<table border=\"1\" class=\"dataframe\">\n",
              "  <thead>\n",
              "    <tr style=\"text-align: right;\">\n",
              "      <th></th>\n",
              "      <th>event_id</th>\n",
              "      <th>game_session</th>\n",
              "      <th>timestamp</th>\n",
              "      <th>event_data</th>\n",
              "      <th>installation_id</th>\n",
              "      <th>event_count</th>\n",
              "      <th>event_code</th>\n",
              "      <th>game_time</th>\n",
              "      <th>title</th>\n",
              "      <th>type</th>\n",
              "      <th>world</th>\n",
              "    </tr>\n",
              "  </thead>\n",
              "  <tbody>\n",
              "    <tr>\n",
              "      <th>0</th>\n",
              "      <td>27253bdc</td>\n",
              "      <td>45bb1e1b6b50c07b</td>\n",
              "      <td>2019-09-06T17:53:46.937Z</td>\n",
              "      <td>{\"event_code\": 2000, \"event_count\": 1}</td>\n",
              "      <td>0001e90f</td>\n",
              "      <td>1</td>\n",
              "      <td>2000</td>\n",
              "      <td>0</td>\n",
              "      <td>Welcome to Lost Lagoon!</td>\n",
              "      <td>Clip</td>\n",
              "      <td>NONE</td>\n",
              "    </tr>\n",
              "    <tr>\n",
              "      <th>1</th>\n",
              "      <td>27253bdc</td>\n",
              "      <td>17eeb7f223665f53</td>\n",
              "      <td>2019-09-06T17:54:17.519Z</td>\n",
              "      <td>{\"event_code\": 2000, \"event_count\": 1}</td>\n",
              "      <td>0001e90f</td>\n",
              "      <td>1</td>\n",
              "      <td>2000</td>\n",
              "      <td>0</td>\n",
              "      <td>Magma Peak - Level 1</td>\n",
              "      <td>Clip</td>\n",
              "      <td>MAGMAPEAK</td>\n",
              "    </tr>\n",
              "    <tr>\n",
              "      <th>2</th>\n",
              "      <td>77261ab5</td>\n",
              "      <td>0848ef14a8dc6892</td>\n",
              "      <td>2019-09-06T17:54:56.302Z</td>\n",
              "      <td>{\"version\":\"1.0\",\"event_count\":1,\"game_time\":0...</td>\n",
              "      <td>0001e90f</td>\n",
              "      <td>1</td>\n",
              "      <td>2000</td>\n",
              "      <td>0</td>\n",
              "      <td>Sandcastle Builder (Activity)</td>\n",
              "      <td>Activity</td>\n",
              "      <td>MAGMAPEAK</td>\n",
              "    </tr>\n",
              "    <tr>\n",
              "      <th>3</th>\n",
              "      <td>b2dba42b</td>\n",
              "      <td>0848ef14a8dc6892</td>\n",
              "      <td>2019-09-06T17:54:56.387Z</td>\n",
              "      <td>{\"description\":\"Let's build a sandcastle! Firs...</td>\n",
              "      <td>0001e90f</td>\n",
              "      <td>2</td>\n",
              "      <td>3010</td>\n",
              "      <td>53</td>\n",
              "      <td>Sandcastle Builder (Activity)</td>\n",
              "      <td>Activity</td>\n",
              "      <td>MAGMAPEAK</td>\n",
              "    </tr>\n",
              "    <tr>\n",
              "      <th>4</th>\n",
              "      <td>1bb5fbdb</td>\n",
              "      <td>0848ef14a8dc6892</td>\n",
              "      <td>2019-09-06T17:55:03.253Z</td>\n",
              "      <td>{\"description\":\"Let's build a sandcastle! Firs...</td>\n",
              "      <td>0001e90f</td>\n",
              "      <td>3</td>\n",
              "      <td>3110</td>\n",
              "      <td>6972</td>\n",
              "      <td>Sandcastle Builder (Activity)</td>\n",
              "      <td>Activity</td>\n",
              "      <td>MAGMAPEAK</td>\n",
              "    </tr>\n",
              "  </tbody>\n",
              "</table>\n",
              "</div>"
            ],
            "text/plain": [
              "   event_id      game_session  ...      type      world\n",
              "0  27253bdc  45bb1e1b6b50c07b  ...      Clip       NONE\n",
              "1  27253bdc  17eeb7f223665f53  ...      Clip  MAGMAPEAK\n",
              "2  77261ab5  0848ef14a8dc6892  ...  Activity  MAGMAPEAK\n",
              "3  b2dba42b  0848ef14a8dc6892  ...  Activity  MAGMAPEAK\n",
              "4  1bb5fbdb  0848ef14a8dc6892  ...  Activity  MAGMAPEAK\n",
              "\n",
              "[5 rows x 11 columns]"
            ]
          },
          "metadata": {
            "tags": []
          },
          "execution_count": 8
        }
      ]
    },
    {
      "cell_type": "code",
      "metadata": {
        "id": "6e8OKO0rKvUg",
        "colab_type": "code",
        "outputId": "747c0f91-e89b-45b8-f48a-227d5343a774",
        "colab": {
          "base_uri": "https://localhost:8080/",
          "height": 373
        }
      },
      "source": [
        "test = pd.read_csv(\"test.csv\")\n",
        "test.head()"
      ],
      "execution_count": 9,
      "outputs": [
        {
          "output_type": "execute_result",
          "data": {
            "text/html": [
              "<div>\n",
              "<style scoped>\n",
              "    .dataframe tbody tr th:only-of-type {\n",
              "        vertical-align: middle;\n",
              "    }\n",
              "\n",
              "    .dataframe tbody tr th {\n",
              "        vertical-align: top;\n",
              "    }\n",
              "\n",
              "    .dataframe thead th {\n",
              "        text-align: right;\n",
              "    }\n",
              "</style>\n",
              "<table border=\"1\" class=\"dataframe\">\n",
              "  <thead>\n",
              "    <tr style=\"text-align: right;\">\n",
              "      <th></th>\n",
              "      <th>event_id</th>\n",
              "      <th>game_session</th>\n",
              "      <th>timestamp</th>\n",
              "      <th>event_data</th>\n",
              "      <th>installation_id</th>\n",
              "      <th>event_count</th>\n",
              "      <th>event_code</th>\n",
              "      <th>game_time</th>\n",
              "      <th>title</th>\n",
              "      <th>type</th>\n",
              "      <th>world</th>\n",
              "    </tr>\n",
              "  </thead>\n",
              "  <tbody>\n",
              "    <tr>\n",
              "      <th>0</th>\n",
              "      <td>27253bdc</td>\n",
              "      <td>0ea9ecc81a565215</td>\n",
              "      <td>2019-09-10T16:50:24.910Z</td>\n",
              "      <td>{\"event_code\": 2000, \"event_count\": 1}</td>\n",
              "      <td>00abaee7</td>\n",
              "      <td>1</td>\n",
              "      <td>2000</td>\n",
              "      <td>0</td>\n",
              "      <td>Welcome to Lost Lagoon!</td>\n",
              "      <td>Clip</td>\n",
              "      <td>NONE</td>\n",
              "    </tr>\n",
              "    <tr>\n",
              "      <th>1</th>\n",
              "      <td>27253bdc</td>\n",
              "      <td>c1ea43d8b8261d27</td>\n",
              "      <td>2019-09-10T16:50:55.503Z</td>\n",
              "      <td>{\"event_code\": 2000, \"event_count\": 1}</td>\n",
              "      <td>00abaee7</td>\n",
              "      <td>1</td>\n",
              "      <td>2000</td>\n",
              "      <td>0</td>\n",
              "      <td>Magma Peak - Level 1</td>\n",
              "      <td>Clip</td>\n",
              "      <td>MAGMAPEAK</td>\n",
              "    </tr>\n",
              "    <tr>\n",
              "      <th>2</th>\n",
              "      <td>27253bdc</td>\n",
              "      <td>7ed86c6b72e725e2</td>\n",
              "      <td>2019-09-10T16:51:51.805Z</td>\n",
              "      <td>{\"event_code\": 2000, \"event_count\": 1}</td>\n",
              "      <td>00abaee7</td>\n",
              "      <td>1</td>\n",
              "      <td>2000</td>\n",
              "      <td>0</td>\n",
              "      <td>Magma Peak - Level 2</td>\n",
              "      <td>Clip</td>\n",
              "      <td>MAGMAPEAK</td>\n",
              "    </tr>\n",
              "    <tr>\n",
              "      <th>3</th>\n",
              "      <td>27253bdc</td>\n",
              "      <td>7e516ace50e7fe67</td>\n",
              "      <td>2019-09-10T16:53:12.825Z</td>\n",
              "      <td>{\"event_code\": 2000, \"event_count\": 1}</td>\n",
              "      <td>00abaee7</td>\n",
              "      <td>1</td>\n",
              "      <td>2000</td>\n",
              "      <td>0</td>\n",
              "      <td>Crystal Caves - Level 1</td>\n",
              "      <td>Clip</td>\n",
              "      <td>CRYSTALCAVES</td>\n",
              "    </tr>\n",
              "    <tr>\n",
              "      <th>4</th>\n",
              "      <td>7d093bf9</td>\n",
              "      <td>a022c3f60ba547e7</td>\n",
              "      <td>2019-09-10T16:54:12.115Z</td>\n",
              "      <td>{\"version\":\"1.0\",\"round\":0,\"event_count\":1,\"ga...</td>\n",
              "      <td>00abaee7</td>\n",
              "      <td>1</td>\n",
              "      <td>2000</td>\n",
              "      <td>0</td>\n",
              "      <td>Chow Time</td>\n",
              "      <td>Game</td>\n",
              "      <td>CRYSTALCAVES</td>\n",
              "    </tr>\n",
              "  </tbody>\n",
              "</table>\n",
              "</div>"
            ],
            "text/plain": [
              "   event_id      game_session  ...  type         world\n",
              "0  27253bdc  0ea9ecc81a565215  ...  Clip          NONE\n",
              "1  27253bdc  c1ea43d8b8261d27  ...  Clip     MAGMAPEAK\n",
              "2  27253bdc  7ed86c6b72e725e2  ...  Clip     MAGMAPEAK\n",
              "3  27253bdc  7e516ace50e7fe67  ...  Clip  CRYSTALCAVES\n",
              "4  7d093bf9  a022c3f60ba547e7  ...  Game  CRYSTALCAVES\n",
              "\n",
              "[5 rows x 11 columns]"
            ]
          },
          "metadata": {
            "tags": []
          },
          "execution_count": 9
        }
      ]
    },
    {
      "cell_type": "code",
      "metadata": {
        "id": "KHpad4wfMOTJ",
        "colab_type": "code",
        "outputId": "e2faabc5-bdf0-4e82-d907-6521fef34f92",
        "colab": {
          "base_uri": "https://localhost:8080/",
          "height": 200
        }
      },
      "source": [
        "specs = pd.read_csv(\"specs.csv\")\n",
        "specs.head()"
      ],
      "execution_count": 10,
      "outputs": [
        {
          "output_type": "execute_result",
          "data": {
            "text/html": [
              "<div>\n",
              "<style scoped>\n",
              "    .dataframe tbody tr th:only-of-type {\n",
              "        vertical-align: middle;\n",
              "    }\n",
              "\n",
              "    .dataframe tbody tr th {\n",
              "        vertical-align: top;\n",
              "    }\n",
              "\n",
              "    .dataframe thead th {\n",
              "        text-align: right;\n",
              "    }\n",
              "</style>\n",
              "<table border=\"1\" class=\"dataframe\">\n",
              "  <thead>\n",
              "    <tr style=\"text-align: right;\">\n",
              "      <th></th>\n",
              "      <th>event_id</th>\n",
              "      <th>info</th>\n",
              "      <th>args</th>\n",
              "    </tr>\n",
              "  </thead>\n",
              "  <tbody>\n",
              "    <tr>\n",
              "      <th>0</th>\n",
              "      <td>2b9272f4</td>\n",
              "      <td>The end of system-initiated feedback (Correct)...</td>\n",
              "      <td>[{\"name\":\"game_time\",\"type\":\"int\",\"info\":\"mill...</td>\n",
              "    </tr>\n",
              "    <tr>\n",
              "      <th>1</th>\n",
              "      <td>df4fe8b6</td>\n",
              "      <td>The end of system-initiated feedback (Incorrec...</td>\n",
              "      <td>[{\"name\":\"game_time\",\"type\":\"int\",\"info\":\"mill...</td>\n",
              "    </tr>\n",
              "    <tr>\n",
              "      <th>2</th>\n",
              "      <td>3babcb9b</td>\n",
              "      <td>The end of system-initiated instruction event ...</td>\n",
              "      <td>[{\"name\":\"game_time\",\"type\":\"int\",\"info\":\"mill...</td>\n",
              "    </tr>\n",
              "    <tr>\n",
              "      <th>3</th>\n",
              "      <td>7f0836bf</td>\n",
              "      <td>The end of system-initiated instruction event ...</td>\n",
              "      <td>[{\"name\":\"game_time\",\"type\":\"int\",\"info\":\"mill...</td>\n",
              "    </tr>\n",
              "    <tr>\n",
              "      <th>4</th>\n",
              "      <td>ab3136ba</td>\n",
              "      <td>The end of system-initiated instruction event ...</td>\n",
              "      <td>[{\"name\":\"game_time\",\"type\":\"int\",\"info\":\"mill...</td>\n",
              "    </tr>\n",
              "  </tbody>\n",
              "</table>\n",
              "</div>"
            ],
            "text/plain": [
              "   event_id  ...                                               args\n",
              "0  2b9272f4  ...  [{\"name\":\"game_time\",\"type\":\"int\",\"info\":\"mill...\n",
              "1  df4fe8b6  ...  [{\"name\":\"game_time\",\"type\":\"int\",\"info\":\"mill...\n",
              "2  3babcb9b  ...  [{\"name\":\"game_time\",\"type\":\"int\",\"info\":\"mill...\n",
              "3  7f0836bf  ...  [{\"name\":\"game_time\",\"type\":\"int\",\"info\":\"mill...\n",
              "4  ab3136ba  ...  [{\"name\":\"game_time\",\"type\":\"int\",\"info\":\"mill...\n",
              "\n",
              "[5 rows x 3 columns]"
            ]
          },
          "metadata": {
            "tags": []
          },
          "execution_count": 10
        }
      ]
    },
    {
      "cell_type": "code",
      "metadata": {
        "id": "CqxdIpj_Mcb1",
        "colab_type": "code",
        "outputId": "4a13a84b-3627-4a59-e281-968bad5093e1",
        "colab": {
          "base_uri": "https://localhost:8080/",
          "height": 200
        }
      },
      "source": [
        "sample_submit = pd.read_csv(\"sample_submission.csv\")\n",
        "sample_submit.head()"
      ],
      "execution_count": 11,
      "outputs": [
        {
          "output_type": "execute_result",
          "data": {
            "text/html": [
              "<div>\n",
              "<style scoped>\n",
              "    .dataframe tbody tr th:only-of-type {\n",
              "        vertical-align: middle;\n",
              "    }\n",
              "\n",
              "    .dataframe tbody tr th {\n",
              "        vertical-align: top;\n",
              "    }\n",
              "\n",
              "    .dataframe thead th {\n",
              "        text-align: right;\n",
              "    }\n",
              "</style>\n",
              "<table border=\"1\" class=\"dataframe\">\n",
              "  <thead>\n",
              "    <tr style=\"text-align: right;\">\n",
              "      <th></th>\n",
              "      <th>installation_id</th>\n",
              "      <th>accuracy_group</th>\n",
              "    </tr>\n",
              "  </thead>\n",
              "  <tbody>\n",
              "    <tr>\n",
              "      <th>0</th>\n",
              "      <td>00abaee7</td>\n",
              "      <td>3</td>\n",
              "    </tr>\n",
              "    <tr>\n",
              "      <th>1</th>\n",
              "      <td>01242218</td>\n",
              "      <td>3</td>\n",
              "    </tr>\n",
              "    <tr>\n",
              "      <th>2</th>\n",
              "      <td>017c5718</td>\n",
              "      <td>3</td>\n",
              "    </tr>\n",
              "    <tr>\n",
              "      <th>3</th>\n",
              "      <td>01a44906</td>\n",
              "      <td>3</td>\n",
              "    </tr>\n",
              "    <tr>\n",
              "      <th>4</th>\n",
              "      <td>01bc6cb6</td>\n",
              "      <td>3</td>\n",
              "    </tr>\n",
              "  </tbody>\n",
              "</table>\n",
              "</div>"
            ],
            "text/plain": [
              "  installation_id  accuracy_group\n",
              "0        00abaee7               3\n",
              "1        01242218               3\n",
              "2        017c5718               3\n",
              "3        01a44906               3\n",
              "4        01bc6cb6               3"
            ]
          },
          "metadata": {
            "tags": []
          },
          "execution_count": 11
        }
      ]
    },
    {
      "cell_type": "code",
      "metadata": {
        "id": "v7tE1bLsVjBj",
        "colab_type": "code",
        "colab": {}
      },
      "source": [
        "# sample submit\n",
        "sample_submission_for_test = sample_submit.copy()\n",
        "sample_submission_for_test['accuracy_group'] = 3\n",
        "sample_submission_for_test.to_csv('submission.csv', index=False)"
      ],
      "execution_count": 0,
      "outputs": []
    },
    {
      "cell_type": "code",
      "metadata": {
        "id": "7T7UDhuEYMGd",
        "colab_type": "code",
        "colab": {
          "base_uri": "https://localhost:8080/",
          "height": 200
        },
        "outputId": "a18593f4-9e86-482b-f078-b8c13c2f1233"
      },
      "source": [
        "sample = pd.read_csv(\"submission.csv\")\n",
        "sample.head()"
      ],
      "execution_count": 25,
      "outputs": [
        {
          "output_type": "execute_result",
          "data": {
            "text/html": [
              "<div>\n",
              "<style scoped>\n",
              "    .dataframe tbody tr th:only-of-type {\n",
              "        vertical-align: middle;\n",
              "    }\n",
              "\n",
              "    .dataframe tbody tr th {\n",
              "        vertical-align: top;\n",
              "    }\n",
              "\n",
              "    .dataframe thead th {\n",
              "        text-align: right;\n",
              "    }\n",
              "</style>\n",
              "<table border=\"1\" class=\"dataframe\">\n",
              "  <thead>\n",
              "    <tr style=\"text-align: right;\">\n",
              "      <th></th>\n",
              "      <th>installation_id</th>\n",
              "      <th>accuracy_group</th>\n",
              "    </tr>\n",
              "  </thead>\n",
              "  <tbody>\n",
              "    <tr>\n",
              "      <th>0</th>\n",
              "      <td>00abaee7</td>\n",
              "      <td>3</td>\n",
              "    </tr>\n",
              "    <tr>\n",
              "      <th>1</th>\n",
              "      <td>01242218</td>\n",
              "      <td>3</td>\n",
              "    </tr>\n",
              "    <tr>\n",
              "      <th>2</th>\n",
              "      <td>017c5718</td>\n",
              "      <td>3</td>\n",
              "    </tr>\n",
              "    <tr>\n",
              "      <th>3</th>\n",
              "      <td>01a44906</td>\n",
              "      <td>3</td>\n",
              "    </tr>\n",
              "    <tr>\n",
              "      <th>4</th>\n",
              "      <td>01bc6cb6</td>\n",
              "      <td>3</td>\n",
              "    </tr>\n",
              "  </tbody>\n",
              "</table>\n",
              "</div>"
            ],
            "text/plain": [
              "  installation_id  accuracy_group\n",
              "0        00abaee7               3\n",
              "1        01242218               3\n",
              "2        017c5718               3\n",
              "3        01a44906               3\n",
              "4        01bc6cb6               3"
            ]
          },
          "metadata": {
            "tags": []
          },
          "execution_count": 25
        }
      ]
    },
    {
      "cell_type": "code",
      "metadata": {
        "id": "iGZOz1Y7NlxL",
        "colab_type": "code",
        "colab": {}
      },
      "source": [
        "from google.colab import files\n",
        "files.download('submission.csv') # uploadに変更すれば良さそう？"
      ],
      "execution_count": 0,
      "outputs": []
    },
    {
      "cell_type": "code",
      "metadata": {
        "id": "vPJodrneOI_V",
        "colab_type": "code",
        "colab": {
          "base_uri": "https://localhost:8080/",
          "height": 119
        },
        "outputId": "2216adcf-13f0-456e-b33a-9a27bb7061a8"
      },
      "source": [
        "os.listdir()"
      ],
      "execution_count": 23,
      "outputs": [
        {
          "output_type": "execute_result",
          "data": {
            "text/plain": [
              "['specs.csv',\n",
              " 'sample_submission.csv',\n",
              " 'test.csv',\n",
              " 'train_labels.csv',\n",
              " 'train.csv',\n",
              " 'submission.csv']"
            ]
          },
          "metadata": {
            "tags": []
          },
          "execution_count": 23
        }
      ]
    },
    {
      "cell_type": "code",
      "metadata": {
        "id": "-gxLxmmROylC",
        "colab_type": "code",
        "colab": {}
      },
      "source": [
        ""
      ],
      "execution_count": 0,
      "outputs": []
    }
  ]
}